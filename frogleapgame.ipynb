{
  "nbformat": 4,
  "nbformat_minor": 0,
  "metadata": {
    "colab": {
      "provenance": [],
      "authorship_tag": "ABX9TyNbHqHG3Qv6OHgw0HYc+LQ+",
      "include_colab_link": true
    },
    "kernelspec": {
      "name": "python3",
      "display_name": "Python 3"
    },
    "language_info": {
      "name": "python"
    }
  },
  "cells": [
    {
      "cell_type": "markdown",
      "metadata": {
        "id": "view-in-github",
        "colab_type": "text"
      },
      "source": [
        "<a href=\"https://colab.research.google.com/github/Susmithapi/Frogleap/blob/main/frogleapgame.ipynb\" target=\"_parent\"><img src=\"https://colab.research.google.com/assets/colab-badge.svg\" alt=\"Open In Colab\"/></a>"
      ]
    },
    {
      "cell_type": "code",
      "execution_count": 40,
      "metadata": {
        "colab": {
          "base_uri": "https://localhost:8080/"
        },
        "id": "8labUZ-LtwB_",
        "outputId": "2a3137cf-3d9b-43ca-ca32-30fdc40a8d45"
      },
      "outputs": [
        {
          "output_type": "stream",
          "name": "stdout",
          "text": [
            "('g', 'g', 'g', '-', 'b', 'b', 'b')\n"
          ]
        }
      ],
      "source": [
        "#step 1.\n",
        "\n",
        "frog = ( 'g','g','g','-','b','b','b')\n",
        "print(frog)"
      ]
    },
    {
      "cell_type": "code",
      "source": [
        "position = (\"[0  1  2  3  4  5  6]\")\n",
        "print (position)\n",
        "print(frog)"
      ],
      "metadata": {
        "colab": {
          "base_uri": "https://localhost:8080/"
        },
        "id": "kshxX-vDuGAz",
        "outputId": "19def868-9d16-4480-fc0c-7b9cf5693ba8"
      },
      "execution_count": 41,
      "outputs": [
        {
          "output_type": "stream",
          "name": "stdout",
          "text": [
            "[0  1  2  3  4  5  6]\n",
            "('g', 'g', 'g', '-', 'b', 'b', 'b')\n"
          ]
        }
      ]
    },
    {
      "cell_type": "code",
      "source": [
        "start_quitgame = input(\"q means quit\\n any number 0-6 \")"
      ],
      "metadata": {
        "colab": {
          "base_uri": "https://localhost:8080/"
        },
        "id": "cO50e-WPujDE",
        "outputId": "291dcbe9-36fe-449b-af88-d3eae92dad8e"
      },
      "execution_count": 60,
      "outputs": [
        {
          "name": "stdout",
          "output_type": "stream",
          "text": [
            "q means quit\n",
            " any number 0-6 2\n"
          ]
        }
      ]
    },
    {
      "cell_type": "code",
      "source": [
        "if start_quitgame == \"q\":\n",
        "  print(\"quit\")\n"
      ],
      "metadata": {
        "id": "Zr2H4mvWzzNs"
      },
      "execution_count": 61,
      "outputs": []
    },
    {
      "cell_type": "code",
      "source": [
        "start_quitgame = int(start_quitgame)\n",
        "print(type(start_quitgame))"
      ],
      "metadata": {
        "colab": {
          "base_uri": "https://localhost:8080/"
        },
        "id": "Ri3opwKq0Pq3",
        "outputId": "8823c3df-b36e-4ec4-9047-bad7a5f9a9c0"
      },
      "execution_count": 62,
      "outputs": [
        {
          "output_type": "stream",
          "name": "stdout",
          "text": [
            "<class 'int'>\n"
          ]
        }
      ]
    },
    {
      "cell_type": "code",
      "source": [
        "if start_quitgame == \"q\":\n",
        "  print(\"quit\")\n",
        "else:\n",
        "  if start_quitgame == int(start_quitgame):\n",
        "    print(type(start_quitgame))\n",
        "    if 0 <= start_quitgame <= 6:\n",
        "      if frog[start_quitgame] == '-':\n",
        "        print(\"Invalid move\")\n",
        "      else:\n",
        "        print(\"next move\")\n",
        "  else:\n",
        "    print(\"Invalid game\")"
      ],
      "metadata": {
        "colab": {
          "base_uri": "https://localhost:8080/"
        },
        "id": "JXwZ_wQc0ndq",
        "outputId": "2b746d0f-16b5-4fbe-d2ac-c61ee816da0c"
      },
      "execution_count": 63,
      "outputs": [
        {
          "output_type": "stream",
          "name": "stdout",
          "text": [
            "<class 'int'>\n",
            "next move\n"
          ]
        }
      ]
    },
    {
      "cell_type": "code",
      "source": [],
      "metadata": {
        "id": "hZEUwKKX5pSj"
      },
      "execution_count": null,
      "outputs": []
    },
    {
      "cell_type": "code",
      "source": [
        "if start_quitgame == \"q\":\n",
        "  print(\"quit\")\n",
        "else:\n",
        "  if start_quitgame == int(start_quitgame):\n",
        "    print(type(start_quitgame))\n",
        "    if 0 <= start_quitgame <= 6:\n",
        "      if frog[start_quitgame] == '-':\n",
        "        print(\"Invalid move\")\n",
        "      else:\n",
        "        print(\"next move\")\n",
        "  else:\n",
        "    print(\"Invalid game\")"
      ],
      "metadata": {
        "colab": {
          "base_uri": "https://localhost:8080/"
        },
        "outputId": "cfd7e845-fbf6-4dc2-f141-6adbed96b0dd",
        "id": "eHQE4teuIvBH"
      },
      "execution_count": 64,
      "outputs": [
        {
          "output_type": "stream",
          "name": "stdout",
          "text": [
            "<class 'int'>\n",
            "next move\n"
          ]
        }
      ]
    },
    {
      "cell_type": "code",
      "source": [
        "pos2 = 0\n",
        "frog = ('g', 'g', 'g', '-', 'b', 'b', 'b')\n",
        "\n",
        "# Find the index of the empty leaf '-' and assign it to pos2\n",
        "for index, value in enumerate(frog):\n",
        "    if value == '-':\n",
        "        pos2 = index\n",
        "        break  # Stop the loop once the empty leaf is found\n",
        "\n",
        "print(\"Index of the empty leaf is:\", pos2)"
      ],
      "metadata": {
        "colab": {
          "base_uri": "https://localhost:8080/"
        },
        "id": "3S-qZpnU1Vrh",
        "outputId": "9fd4631f-2db0-47c3-baaa-5f79608dc3b2"
      },
      "execution_count": 70,
      "outputs": [
        {
          "output_type": "stream",
          "name": "stdout",
          "text": [
            "Index of the empty leaf is: 3\n"
          ]
        }
      ]
    },
    {
      "cell_type": "code",
      "source": [
        "\n",
        "def make_move(frog, selected_position):\n",
        "    if frog[selected_position] == 'g':\n",
        "        # Condition 1 for 'g'\n",
        "        if selected_position + 1 <= 6 and frog[selected_position + 1] == '-':\n",
        "            frog[selected_position], frog[selected_position + 1] = frog[selected_position + 1], frog[selected_position]\n",
        "            return selected_position + 1  # New position of '-'\n",
        "\n",
        "        # Condition 2 for 'g'\n",
        "        elif selected_position + 2 <= 6 and frog[selected_position + 2] == '-' and frog[selected_position + 1] == 'B':\n",
        "            frog[selected_position], frog[selected_position + 2] = frog[selected_position + 2], frog[selected_position]\n",
        "            return selected_position + 2  # New position of '-'\n",
        "\n",
        "        else:\n",
        "            print(\"Invalid Move\")\n",
        "            return None\n",
        "\n",
        "    elif frog[selected_position] == 'b':\n",
        "        # Condition 1 for 'B'\n",
        "        if selected_position - 1 >= 0 and frog[selected_position - 1] == '-':\n",
        "            frog[selected_position], frog[selected_position - 1] = frog[selected_position - 1], frog[selected_position]\n",
        "            return selected_position - 1  # New position of '-'\n",
        "\n",
        "        # Condition 2 for 'b'\n",
        "        elif selected_position - 2 >= 0 and frog[selected_position - 2] == '-' and frog[selected_position - 1] == 'G':\n",
        "            frog[selected_position], frog[selected_position - 2] = frog[selected_position - 2], frog[selected_position]\n",
        "            return selected_position - 2  # New position of '-'\n",
        "\n",
        "        else:\n",
        "            print(\"Invalid Move\")\n",
        "            return None\n",
        "\n",
        "    else:\n",
        "        print(\"Invalid selection\")\n",
        "        return None\n"
      ],
      "metadata": {
        "id": "UMpnd8Zm1VoP"
      },
      "execution_count": 67,
      "outputs": []
    },
    {
      "cell_type": "code",
      "source": [
        "def swap_positions(game_state, current_position, next_position):\n",
        "    \"\"\"\n",
        "    Swaps elements in the game_state list at the current and next positions.\n",
        "\n",
        "    Parameters:\n",
        "    - game_state: The list representing the game board.\n",
        "    - current_position: The index of the frog to move.\n",
        "    - next_position: The index of the new position for the frog.\n",
        "    \"\"\"\n",
        "    # Swap the elements\n",
        "    game_state[current_position], game_state[next_position] = game_state[next_position], game_state[current_position]\n",
        "\n",
        "# Example game state\n",
        "game_state = ['g', 'g', 'g', '-', 'b', 'b', 'b']\n",
        "\n",
        "# Example move\n",
        "current_position = 2  # Assuming the frog at position 2 ('G') is to move\n",
        "next_position = 3    # Assuming position 3 ('-') is the next valid position\n",
        "\n",
        "# Perform the swap\n",
        "swap_positions(game_state, current_position, next_position)\n",
        "\n",
        "# Print the new game state to verify the move\n",
        "print(game_state)"
      ],
      "metadata": {
        "colab": {
          "base_uri": "https://localhost:8080/"
        },
        "id": "ovGaivUvMePa",
        "outputId": "a67757ce-08eb-4d4b-a891-291f43f32753"
      },
      "execution_count": 71,
      "outputs": [
        {
          "output_type": "stream",
          "name": "stdout",
          "text": [
            "['g', 'g', '-', 'g', 'b', 'b', 'b']\n"
          ]
        }
      ]
    },
    {
      "cell_type": "code",
      "source": [
        "#winning condition:\n",
        "if game_state == ['b','b','b','-','g','g','g']:\n",
        "    print(\"yay you win!\")\n",
        ""
      ],
      "metadata": {
        "id": "ykOB-E6jOhEZ"
      },
      "execution_count": 80,
      "outputs": []
    },
    {
      "cell_type": "code",
      "source": [
        "print(frog)\n"
      ],
      "metadata": {
        "colab": {
          "base_uri": "https://localhost:8080/"
        },
        "id": "fp71cuazMs5i",
        "outputId": "bc1c51f4-c30d-416a-f0fc-7bed4b3c3117"
      },
      "execution_count": 69,
      "outputs": [
        {
          "output_type": "stream",
          "name": "stdout",
          "text": [
            "('g', 'g', 'g', '-', 'b', 'b', 'b')\n"
          ]
        }
      ]
    },
    {
      "cell_type": "code",
      "source": [
        "def check_win(frog):\n",
        "    # Define your winning condition here\n",
        "    # Example: All 'G' frogs have moved to the right side and 'B' frogs to the left\n",
        "    return frog == ['b', 'b', 'b', '-', 'g', 'g', 'g']\n",
        "\n",
        "# Initialize the game state\n",
        "frog = ['g', 'g', 'g', '-', 'b', 'b', 'b']\n",
        "\n",
        "while True:\n",
        "    print(\"\\nCurrent game state:\", frog)\n",
        "    user_input = input(\"Select a frog to move (0-6) or 'q' to quit: \")\n",
        "\n",
        "    if user_input.lower() == 'q':\n",
        "        print(\"Game ended by user.\")\n",
        "        break\n",
        "\n",
        "    if not user_input.isdigit() or not 0 <= int(user_input) <= 6:\n",
        "        print(\"Invalid input. Please enter a number between 0 and 6, or 'q' to quit.\")\n",
        "        continue\n",
        "\n",
        "    selected_position = int(user_input)\n",
        "\n",
        "    # Assume make_move is a function that attempts to move the selected frog\n",
        "    # and returns True if a move was made or False if the move was invalid\n",
        "    pos2 = make_move(frog, selected_position)  # Update this function based on your game logic\n",
        "\n",
        "    if pos2 is None:\n",
        "        print(\"Invalid Move\")\n",
        "        continue  # Skip the rest of the loop and prompt for input again\n",
        "\n",
        "    # Check if the game is won after the move\n",
        "    if check_win(frog):\n",
        "        print(\"\\nFinal game state:\", frog)\n",
        "        print(\"Congratulations! You've won the game.\")\n",
        "        break  # Exit the loop and end the game\n",
        "\n",
        "    # Display the updated game state\n",
        "    print(\"Moved successfully. New game state:\", frog)"
      ],
      "metadata": {
        "colab": {
          "base_uri": "https://localhost:8080/"
        },
        "id": "2TDcPUvORjgF",
        "outputId": "5352f18f-9a2f-4faf-fa7c-df591a82ae81"
      },
      "execution_count": 83,
      "outputs": [
        {
          "output_type": "stream",
          "name": "stdout",
          "text": [
            "\n",
            "Current game state: ['g', 'g', 'g', '-', 'b', 'b', 'b']\n",
            "Select a frog to move (0-6) or 'q' to quit: q\n",
            "Game ended by user.\n"
          ]
        }
      ]
    },
    {
      "cell_type": "markdown",
      "source": [],
      "metadata": {
        "id": "Mbj2xQbQMsr8"
      }
    }
  ]
}